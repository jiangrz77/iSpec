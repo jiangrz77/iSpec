{
 "cells": [
  {
   "attachments": {},
   "cell_type": "markdown",
   "metadata": {},
   "source": [
    "# This notebook enables you to install iSpec in python3."
   ]
  },
  {
   "cell_type": "code",
   "execution_count": 4,
   "metadata": {},
   "outputs": [],
   "source": [
    "# ===========Create an iSpec environment===========\n",
    "# If you don't have an iSpec environment, you can type the following code in a terminal under current path:\n",
    "# $ python -m venv .venv\n",
    "# $ source .venv/bin/activate\n",
    "# ==========An alternative way In VS Code==========\n",
    "# Press 'Ctrl/Command+Shift+P' and type in 'Python: Create Enviroment'.\n",
    "# Choose 'Venv'\n",
    "# Change the current kernel to '.venv'"
   ]
  },
  {
   "cell_type": "code",
   "execution_count": 5,
   "metadata": {},
   "outputs": [],
   "source": [
    "# ===========Install the necessary python module===========\n",
    "# Run the following code to isntall modules:\n",
    "# %pip install numpy # Fundamental scientific computation\n",
    "# %pip install scipy # Tools for scientific computation\n",
    "# %pip install matplotlib # Plots\n",
    "# %pip install astropy # Library for Astronomy\n",
    "# %pip install ipython # Alternative python shell\n",
    "# %pip install pudb # Debugger\n",
    "# %pip install lockfile\n",
    "\n",
    "# %pip install cython # C-extensions for python\n",
    "# %pip install scikit-learn # Machine learning algorithms\n",
    "# %pip install tables # required by pandas to support HDF5\n",
    "# %pip install pandas # Data analysis library\n",
    "\n",
    "# %pip install patsy # required by statsmodels\n",
    "# %pip install statsmodels # Statistics\n",
    "# %pip install dill # Pickle related\n",
    "# %pip install wget # Download Module"
   ]
  },
  {
   "cell_type": "code",
   "execution_count": 6,
   "metadata": {},
   "outputs": [],
   "source": [
    "# ==============Download iSpec and extract to virtual environment==============\n",
    "# Remember to restar the kernel to use updated packages\n",
    "import os, wget, shutil\n",
    "from pathlib  import Path\n",
    "import tarfile\n",
    "url = 'https://www.cfa.harvard.edu/~sblancoc/iSpec/iSpec_v20201001.tar.gz'\n",
    "filename = url.split('/')[-1]\n",
    "venv_dir = Path('../.venv')\n",
    "destination = venv_dir/filename\n",
    "if not os.path.exists(venv_dir/'iSpec'):\n",
    "    wget.download(url)\n",
    "    shutil.move(filename,destination)\n",
    "    with tarfile.open(destination) as file:\n",
    "        file.extractall(venv_dir)\n",
    "    shutil.move(destination, venv_dir/'iSpec')\n",
    "    os.rename(venv_dir/filename.split('.')[0], venv_dir/'iSpec')\n",
    "\n",
    "\n",
    "# -------------------------Request modul not finished-------------------------\n",
    "# from download import Downloader\n",
    "# downloader = Downloader(url)\n",
    "# downloader.start()"
   ]
  },
  {
   "cell_type": "code",
   "execution_count": 7,
   "metadata": {},
   "outputs": [],
   "source": [
    "# ==================================Make iSpec==================================\n",
    "# Type this file in your virtual enviroment folder.\n",
    "# make clean\n",
    "# make spectrum\n",
    "# make turbospectrum\n",
    "# make moog\n",
    "# ------------------------------------Errors------------------------------------\n",
    "# If you encounter Errors in 'make', please follow the instructions to modify the makefile code.\n",
    "# It is because the code was composed under the older gfortran releases. Gfortran 10 and later \n",
    "# releases will cause argument mismatches erros, which can be downgraded to warnings by setting \n",
    "# the compiler flag '-fallow-argument-mismatch'. It means that you should change the makefiles\n",
    "# in packages 'turbospectrum' and 'moog' respectively. \n",
    "# Add ' -fallow-argument-mismatch' behind the followling lines. Remember leave a space before \n",
    "# the flag.\n",
    "# 1. File '.venv/iSpec/synthesizer/turbospectrum/exec-gf', line 10\n",
    "#    'LINKOPT = -L/usr/lib -fconvert=big-endian -O3 -fno-automatic -mcmodel=medium'\n",
    "# 2. File '.venv/iSpec/synthesizer/moog/Makefile.rhsilent', line 29\n",
    "#    'FC = gfortran'"
   ]
  }
 ],
 "metadata": {
  "kernelspec": {
   "display_name": ".venv",
   "language": "python",
   "name": "python3"
  },
  "language_info": {
   "codemirror_mode": {
    "name": "ipython",
    "version": 3
   },
   "file_extension": ".py",
   "mimetype": "text/x-python",
   "name": "python",
   "nbconvert_exporter": "python",
   "pygments_lexer": "ipython3",
   "version": "3.10.6"
  },
  "orig_nbformat": 4,
  "vscode": {
   "interpreter": {
    "hash": "ae85487b495add89ad2210fb5ee2393e5dd05b19fef128748313880f6b7fd5c3"
   }
  }
 },
 "nbformat": 4,
 "nbformat_minor": 2
}
