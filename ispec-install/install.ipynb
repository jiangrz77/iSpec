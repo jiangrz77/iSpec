{
 "cells": [
  {
   "cell_type": "code",
   "execution_count": 1,
   "metadata": {},
   "outputs": [],
   "source": [
    "# This notebook enables you to install required python module for iSpec.\n",
    "# ---------Create an iSpec environment---------\n",
    "# If you don't have an iSpec environment, you can type the following code in a terminal under current path:\n",
    "# $ python -m venv .venv\n",
    "# $ source .venv/bin/activate\n",
    "# ------An alternative way In VS Code------\n",
    "# Press 'Ctrl/Command+Shift+P' and type in 'Python: Create Enviroment'.\n",
    "# Choose 'Venv'\n",
    "# Change the current kernel to '.venv'"
   ]
  },
  {
   "cell_type": "code",
   "execution_count": 2,
   "metadata": {},
   "outputs": [],
   "source": [
    "# ---------Install the necessary python module---------\n",
    "# Run the following code to isntall modules:\n",
    "# %pip install numpy # Fundamental scientific computation\n",
    "# %pip install scipy # Tools for scientific computation\n",
    "# %pip install matplotlib # Plots\n",
    "# %pip install astropy # Library for Astronomy\n",
    "# %pip install ipython # Alternative python shell\n",
    "# %pip install pudb # Debugger\n",
    "# %pip install lockfile\n",
    "\n",
    "# %pip install cython # C-extensions for python\n",
    "# %pip install scikit-learn # Machine learning algorithms\n",
    "# %pip install tables # required by pandas to support HDF5\n",
    "# %pip install pandas # Data analysis library\n",
    "\n",
    "# %pip install patsy # required by statsmodels\n",
    "# %pip install statsmodels # Statistics\n",
    "# %pip install dill # Pickle related\n",
    "# %pip install requests # Download Module"
   ]
  },
  {
   "cell_type": "code",
   "execution_count": 3,
   "metadata": {},
   "outputs": [
    {
     "ename": "NameError",
     "evalue": "name 'file' is not defined",
     "output_type": "error",
     "traceback": [
      "\u001b[0;31m---------------------------------------------------------------------------\u001b[0m",
      "\u001b[0;31mNameError\u001b[0m                                 Traceback (most recent call last)",
      "Cell \u001b[0;32mIn[3], line 1\u001b[0m\n\u001b[0;32m----> 1\u001b[0m file\n",
      "\u001b[0;31mNameError\u001b[0m: name 'file' is not defined"
     ]
    }
   ],
   "source": [
    "file"
   ]
  },
  {
   "cell_type": "code",
   "execution_count": 12,
   "metadata": {},
   "outputs": [],
   "source": [
    "# ---------Download iSpec and extract to virtual environment---------\n",
    "# Remember to restar the kernel to use updated packages\n",
    "import os, wget, shutil\n",
    "from pathlib  import Path\n",
    "import tarfile\n",
    "url = 'https://www.cfa.harvard.edu/~sblancoc/iSpec/iSpec_v20201001.tar.gz'\n",
    "filename = url.split('/')[-1]\n",
    "venv_dir = Path('../.venv')\n",
    "ispec_dir =  Path('../.venv/iSpec')\n",
    "destination = venv_dir/filename\n",
    "if not os.path.exists(ispec_dir):\n",
    "    if not os.path.exists(destination):\n",
    "        if os.path.exists(filename):\n",
    "            shutil.move(filename,destination)\n",
    "        else:\n",
    "            wget.download(url)\n",
    "            shutil.move(filename,destination)\n",
    "    else:\n",
    "        with tarfile.open(destination) as file:\n",
    "            file.extractall(venv_dir)\n",
    "        shutil.move(destination, ispec_dir)\n",
    "        os.rename(venv_dir/filename.split('.')[0], ispec_dir)\n",
    "\n",
    "\n",
    "# Request modul not finished\n",
    "# from download import Downloader\n",
    "# downloader = Downloader(url)\n",
    "# downloader.start()"
   ]
  },
  {
   "cell_type": "code",
   "execution_count": 13,
   "metadata": {},
   "outputs": [],
   "source": [
    "# ---------Make iSpec---------\n",
    "# Type this file in your virtual enviroment folder.\n",
    "# make clean\n",
    "# make spectrum\n",
    "# make turbospectrum\n",
    "# make moog"
   ]
  },
  {
   "cell_type": "code",
   "execution_count": null,
   "metadata": {},
   "outputs": [],
   "source": []
  }
 ],
 "metadata": {
  "kernelspec": {
   "display_name": ".venv",
   "language": "python",
   "name": "python3"
  },
  "language_info": {
   "codemirror_mode": {
    "name": "ipython",
    "version": 3
   },
   "file_extension": ".py",
   "mimetype": "text/x-python",
   "name": "python",
   "nbconvert_exporter": "python",
   "pygments_lexer": "ipython3",
   "version": "3.11.0"
  },
  "orig_nbformat": 4,
  "vscode": {
   "interpreter": {
    "hash": "577922da9bb3bd4dc9a1f4e87e1a96638310aabc3c3ab05e4f0eca85248635d8"
   }
  }
 },
 "nbformat": 4,
 "nbformat_minor": 2
}
