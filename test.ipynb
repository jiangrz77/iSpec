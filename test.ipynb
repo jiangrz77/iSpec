{
 "cells": [
  {
   "cell_type": "code",
   "execution_count": 1,
   "metadata": {},
   "outputs": [],
   "source": [
    "import os\n",
    "import sys\n",
    "import numpy as np\n",
    "import logging\n",
    "from pathlib import Path\n",
    "import multiprocessing\n",
    "from multiprocessing import Pool"
   ]
  },
  {
   "cell_type": "code",
   "execution_count": 2,
   "metadata": {},
   "outputs": [
    {
     "name": "stderr",
     "output_type": "stream",
     "text": [
      "[2023-02-11 16:14:51,899] [INFO] [utils:_init_num_threads:160]: NumExpr defaulting to 4 threads.\n"
     ]
    }
   ],
   "source": [
    "#--- iSpec directory -------------------------------------------------------------\n",
    "ispec_dir = '../.venv/iSpec/'\n",
    "#ispec_dir = '/home/virtual/iSpec/'\n",
    "sys.path.insert(0, os.path.abspath(ispec_dir))\n",
    "import ispec"
   ]
  },
  {
   "cell_type": "code",
   "execution_count": 3,
   "metadata": {},
   "outputs": [],
   "source": [
    "\n",
    "#--- Change LOG level ----------------------------------------------------------\n",
    "#LOG_LEVEL = \"warning\"\n",
    "LOG_LEVEL = \"info\"\n",
    "logger = logging.getLogger() # root logger, common for all\n",
    "logger.setLevel(logging.getLevelName(LOG_LEVEL.upper()))\n",
    "################################################################################"
   ]
  },
  {
   "cell_type": "code",
   "execution_count": 4,
   "metadata": {},
   "outputs": [],
   "source": [
    "def read_write_spectrum():\n",
    "    #--- Reading spectra -----------------------------------------------------------\n",
    "    logging.info(\"Reading spectra\")\n",
    "    star_spectrum = ispec.spectrum.read_spectrum(ispec_dir + \"/input/spectra/examples/NARVAL_Sun_Vesta-1.txt.gz\")\n",
    "    ##--- Save spectrum ------------------------------------------------------------\n",
    "    logging.info(\"Saving spectrum...\")\n",
    "    ispec.spectrum.write_spectrum(star_spectrum, \"example_sun.fits\")"
   ]
  },
  {
   "cell_type": "code",
   "execution_count": 4,
   "metadata": {},
   "outputs": [
    {
     "name": "stdout",
     "output_type": "stream",
     "text": [
      "/Users/jeromejiang/Documents/gitee/program/.venv/iSpec/\n"
     ]
    }
   ],
   "source": [
    "import example"
   ]
  },
  {
   "cell_type": "code",
   "execution_count": 3,
   "metadata": {},
   "outputs": [
    {
     "ename": "NameError",
     "evalue": "name 'example' is not defined",
     "output_type": "error",
     "traceback": [
      "\u001b[0;31m---------------------------------------------------------------------------\u001b[0m",
      "\u001b[0;31mNameError\u001b[0m                                 Traceback (most recent call last)",
      "Cell \u001b[0;32mIn[3], line 1\u001b[0m\n\u001b[0;32m----> 1\u001b[0m example\n",
      "\u001b[0;31mNameError\u001b[0m: name 'example' is not defined"
     ]
    }
   ],
   "source": [
    "example"
   ]
  },
  {
   "cell_type": "code",
   "execution_count": null,
   "metadata": {},
   "outputs": [],
   "source": []
  }
 ],
 "metadata": {
  "kernelspec": {
   "display_name": ".venv",
   "language": "python",
   "name": "python3"
  },
  "language_info": {
   "codemirror_mode": {
    "name": "ipython",
    "version": 3
   },
   "file_extension": ".py",
   "mimetype": "text/x-python",
   "name": "python",
   "nbconvert_exporter": "python",
   "pygments_lexer": "ipython3",
   "version": "3.10.4"
  },
  "orig_nbformat": 4,
  "vscode": {
   "interpreter": {
    "hash": "d7ce10d79c0b2cb771d04c2702166d89fed0111736c911bad4c254c1adfebd2b"
   }
  }
 },
 "nbformat": 4,
 "nbformat_minor": 2
}
