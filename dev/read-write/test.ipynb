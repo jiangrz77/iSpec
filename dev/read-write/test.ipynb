{
 "cells": [
  {
   "cell_type": "code",
   "execution_count": 1,
   "metadata": {},
   "outputs": [],
   "source": [
    "import os\n",
    "import sys\n",
    "import numpy as np\n",
    "import logging\n",
    "from pathlib import Path\n",
    "from multiprocessing import Pool"
   ]
  },
  {
   "cell_type": "code",
   "execution_count": 2,
   "metadata": {},
   "outputs": [],
   "source": [
    "#--- iSpec directory -------------------------------------------------------------\n",
    "# ispec_dir = Path('../../.venv/iSpec/')\n",
    "# sys.path.append(str(ispec_dir))\n",
    "# import ispec"
   ]
  },
  {
   "cell_type": "code",
   "execution_count": 3,
   "metadata": {},
   "outputs": [],
   "source": [
    "#--- Change LOG level ----------------------------------------------------------\n",
    "#LOG_LEVEL = \"warning\"\n",
    "# logger = logging.getLogger('logtest')\n",
    "# logger.setLevel(logging.DEBUG)\n",
    "# f_hand = logging.FileHandler('./logtest.log', mode='a')\n",
    "# f_hand.setLevel(logging.INFO)\n",
    "# f_hand.setFormatter(logging.Formatter('[%(asctime)s] [%(levelname)s] %(message)s'))\n",
    "# logger.addHandler(f_hand)\n",
    "################################################################################"
   ]
  },
  {
   "cell_type": "code",
   "execution_count": 4,
   "metadata": {},
   "outputs": [],
   "source": [
    "from spectrum import Spectrum"
   ]
  },
  {
   "cell_type": "code",
   "execution_count": 5,
   "metadata": {},
   "outputs": [],
   "source": [
    "filename = './data/spec-56618-EG000954N044957B01_sp10-036.fits.gz'\n",
    "spec = Spectrum(filename, 'LAMOST', logfile='log.log')"
   ]
  },
  {
   "cell_type": "code",
   "execution_count": null,
   "metadata": {},
   "outputs": [],
   "source": []
  }
 ],
 "metadata": {
  "kernelspec": {
   "display_name": "Python 3",
   "language": "python",
   "name": "python3"
  },
  "language_info": {
   "codemirror_mode": {
    "name": "ipython",
    "version": 3
   },
   "file_extension": ".py",
   "mimetype": "text/x-python",
   "name": "python",
   "nbconvert_exporter": "python",
   "pygments_lexer": "ipython3",
   "version": "3.10.6"
  },
  "orig_nbformat": 4,
  "vscode": {
   "interpreter": {
    "hash": "31f2aee4e71d21fbe5cf8b01ff0e069b9275f58929596ceb00d14d90e3e16cd6"
   }
  }
 },
 "nbformat": 4,
 "nbformat_minor": 2
}
