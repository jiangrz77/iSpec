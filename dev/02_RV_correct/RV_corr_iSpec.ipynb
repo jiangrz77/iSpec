{
 "cells": [
  {
   "cell_type": "code",
   "execution_count": 4,
   "id": "57eb735a-70d2-485d-9dc4-b519e5d2ec3a",
   "metadata": {},
   "outputs": [],
   "source": [
    "#derive stellar parameters using MOOG of iSpec and add the adjustment function\n",
    "#created Feb 7th 2023"
   ]
  },
  {
   "cell_type": "code",
   "execution_count": 61,
   "id": "80bbb591-d547-4a40-b651-dab9ca3c7d8e",
   "metadata": {},
   "outputs": [],
   "source": [
    "import os\n",
    "import sys\n",
    "import numpy as np\n",
    "import logging\n",
    "import multiprocessing\n",
    "import matplotlib.pyplot as plt\n",
    "import pandas as pd\n",
    "from multiprocessing import Pool"
   ]
  },
  {
   "cell_type": "code",
   "execution_count": 62,
   "id": "13fb0e7f-9431-4c2e-bdfe-a155a2ecb0b7",
   "metadata": {},
   "outputs": [],
   "source": [
    "#your directory\n",
    "ispec_dir = '/home/rzzhang/iSpec_v20201001/'\n",
    "sys.path.insert(0, os.path.abspath(ispec_dir))\n",
    "import ispec\n",
    "\n",
    "indir   = ispec_dir + 'GES_spec/input/'\n",
    "rvdir   = ispec_dir + 'GES_spec/rvc/'\n",
    "normdir = ispec_dir + 'GES_spec/norm/'\n",
    "outdir  = ispec_dir + 'GES_spec/results/'"
   ]
  },
  {
   "cell_type": "code",
   "execution_count": 63,
   "id": "0fcf4db8-8099-43d3-a6f3-d63199186c2b",
   "metadata": {},
   "outputs": [],
   "source": [
    "#spectra list\n",
    "#take one spectra as an example to analyse the code\n",
    "specname  = ['ADP.2020-11-02T11_15_54.747']\n",
    "objname   = ['CD -48 0245']\n",
    "#Instrname = ['UVES']"
   ]
  },
  {
   "cell_type": "code",
   "execution_count": 64,
   "id": "a4a1163b-0695-4bdd-8115-c2017998c1ad",
   "metadata": {},
   "outputs": [
    {
     "name": "stderr",
     "output_type": "stream",
     "text": [
      "[2023-02-13 04:27:56,798] [INFO] [3510242928:<cell line: 6>:7]: Reading spectra ADP.2020-11-02T11_15_54.747 of CD -48 0245\n",
      "[2023-02-13 04:27:57,015] [INFO] [3510242928:<cell line: 6>:14]: Radial velocity determination with linelist mask...\n",
      "[2023-02-13 04:27:57,329] [INFO] [3510242928:<cell line: 6>:30]: First run, from -500 to 500...\n",
      "[2023-02-13 04:27:57,482] [INFO] [lines:__cross_correlation_function_uniform_in_velocity:1994]: 0.00%\n",
      "[2023-02-13 04:27:57,522] [INFO] [lines:__cross_correlation_function_uniform_in_velocity:1994]: 10.09%\n",
      "[2023-02-13 04:27:57,569] [INFO] [lines:__cross_correlation_function_uniform_in_velocity:1994]: 20.18%\n",
      "[2023-02-13 04:27:57,617] [INFO] [lines:__cross_correlation_function_uniform_in_velocity:1994]: 30.27%\n",
      "[2023-02-13 04:27:57,664] [INFO] [lines:__cross_correlation_function_uniform_in_velocity:1994]: 40.36%\n",
      "[2023-02-13 04:27:57,718] [INFO] [lines:__cross_correlation_function_uniform_in_velocity:1994]: 50.45%\n",
      "[2023-02-13 04:27:57,768] [INFO] [lines:__cross_correlation_function_uniform_in_velocity:1994]: 60.54%\n",
      "[2023-02-13 04:27:57,818] [INFO] [lines:__cross_correlation_function_uniform_in_velocity:1994]: 70.63%\n",
      "[2023-02-13 04:27:57,884] [INFO] [lines:__cross_correlation_function_uniform_in_velocity:1994]: 80.72%\n",
      "[2023-02-13 04:27:57,948] [INFO] [lines:__cross_correlation_function_uniform_in_velocity:1994]: 90.81%\n",
      "[2023-02-13 04:27:58,022] [INFO] [lines:__model_velocity_profile:2455]: Peak found at 329.00 km/s (fitted at 328.96 +/- 0.27 km/s)\n",
      "[2023-02-13 04:27:58,023] [INFO] [3510242928:<cell line: 6>:42]: Second run, from 319.0 to 339.0...\n"
     ]
    },
    {
     "name": "stdout",
     "output_type": "stream",
     "text": [
      "329.0\n"
     ]
    },
    {
     "name": "stderr",
     "output_type": "stream",
     "text": [
      "[2023-02-13 04:27:58,324] [INFO] [lines:__cross_correlation_function_uniform_in_velocity:1994]: 0.00%\n",
      "[2023-02-13 04:27:58,636] [INFO] [lines:__cross_correlation_function_uniform_in_velocity:1994]: 10.45%\n",
      "[2023-02-13 04:27:58,897] [INFO] [lines:__cross_correlation_function_uniform_in_velocity:1994]: 20.90%\n",
      "[2023-02-13 04:27:59,182] [INFO] [lines:__cross_correlation_function_uniform_in_velocity:1994]: 40.30%\n",
      "[2023-02-13 04:27:59,426] [INFO] [lines:__cross_correlation_function_uniform_in_velocity:1994]: 50.75%\n",
      "[2023-02-13 04:27:59,920] [INFO] [lines:__cross_correlation_function_uniform_in_velocity:1994]: 70.15%\n",
      "[2023-02-13 04:28:00,156] [INFO] [lines:__cross_correlation_function_uniform_in_velocity:1994]: 80.60%\n",
      "[2023-02-13 04:28:00,422] [INFO] [lines:__model_velocity_profile:2455]: Peak found at 328.90 km/s (fitted at 328.94 +/- 0.09 km/s)\n",
      "[2023-02-13 04:28:00,424] [INFO] [3510242928:<cell line: 6>:62]: Radial velocity correction...\n",
      "[2023-02-13 04:28:00,425] [INFO] [3510242928:<cell line: 6>:66]: Saving spectrum...\n"
     ]
    },
    {
     "name": "stdout",
     "output_type": "stream",
     "text": [
      "328.93992984908243 0.09309863775943567\n"
     ]
    }
   ],
   "source": [
    "#read spectrum, calculate and correct the RV\n",
    "\n",
    "#create dataframe to record rv, rv_err\n",
    "RV_list = pd.DataFrame(columns = ['archive file name','Object','RV','RV_err'])\n",
    "\n",
    "for i in range(1):\n",
    "    logging.info(\"Reading spectra \" + specname[i] + ' of ' + objname[i])\n",
    "    star_spectrum = ispec.read_spectrum(indir + specname[i] + '.dat')\n",
    "    #logging.info(\"Ploting spectra \" + specname[i])\n",
    "    #plt.plot(star_spectrum['waveobs'],star_spectrum['flux'])\n",
    "    \n",
    "    \n",
    "    #--- Radial Velocity determination with linelist mask --------------------------\n",
    "    logging.info(\"Radial velocity determination with linelist mask...\")\n",
    "    # - Read atomic data\n",
    "    mask_file = ispec_dir + \"input/linelists/CCF/Narval.Sun.370_1048nm/mask.lst\"\n",
    "    #mask_file = ispec_dir + \"input/linelists/CCF/Atlas.Arcturus.372_926nm/mask.lst\"\"\n",
    "    #mask_file = ispec_dir + \"input/linelists/CCF/Atlas.Sun.372_926nm/mask.lst\"\n",
    "    #mask_file = ispec_dir + \"input/linelists/CCF/HARPS_SOPHIE.A0.350_1095nm/mask.lst\"\n",
    "    #mask_file = ispec_dir + \"input/linelists/CCF/HARPS_SOPHIE.F0.360_698nm/mask.lst\"\n",
    "    #mask_file = ispec_dir + \"input/linelists/CCF/HARPS_SOPHIE.G2.375_679nm/mask.lst\"\n",
    "    #mask_file = ispec_dir + \"input/linelists/CCF/HARPS_SOPHIE.K0.378_679nm/mask.lst\"\n",
    "    #mask_file = ispec_dir + \"input/linelists/CCF/HARPS_SOPHIE.K5.378_680nm/mask.lst\"\n",
    "    #mask_file = ispec_dir + \"input/linelists/CCF/HARPS_SOPHIE.M5.400_687nm/mask.lst\"\n",
    "    #mask_file = ispec_dir + \"input/linelists/CCF/Synthetic.Sun.350_1100nm/mask.lst\"\n",
    "    #mask_file = ispec_dir + \"input/linelists/CCF/VALD.Sun.300_1100nm/mask.lst\"\n",
    "    ccf_mask = ispec.read_cross_correlation_mask(mask_file)\n",
    "    \n",
    "    #take 1.0 as the step for rough measurement\n",
    "    logging.info(\"First run, from -500 to 500...\")\n",
    "    models0, ccf0 = ispec.cross_correlate_with_mask(star_spectrum, ccf_mask, \\\n",
    "                            lower_velocity_limit=-500, upper_velocity_limit=500, \\\n",
    "                            velocity_step=1.0, mask_depth=0.01, \\\n",
    "                            fourier=False)\n",
    "    \n",
    "    #read the rv results from the rough measurement\n",
    "    x0 = np.argmin(ccf0['y'])\n",
    "    rv0 = ccf0['x'][x0]\n",
    "    print(rv0)\n",
    "    \n",
    "    #take 0.1 as the step for fine measurement around the rv0\n",
    "    logging.info(\"Second run, from \" + str(rv0-10) + ' to ' + str(rv0+10) + '...')\n",
    "    models, ccf = ispec.cross_correlate_with_mask(star_spectrum, ccf_mask, \\\n",
    "                            lower_velocity_limit=rv0-10, upper_velocity_limit=rv0+10, \\\n",
    "                            velocity_step=0.1, mask_depth=0.01, \\\n",
    "                            fourier=False)\n",
    "    \n",
    "    # Number of models represent the number of components\n",
    "    components = len(models)\n",
    "    # First component:\n",
    "    rv = models[0].mu() # km/s\n",
    "    rv_err = models[0].emu() # km/s\n",
    "    print(rv, rv_err)\n",
    "    \n",
    "    RV_list.loc[i] = [specname[i],objname[i],rv,rv_err]\n",
    "\n",
    "    #keep 2 decimals\n",
    "    #rv2 = np.round(models[0].mu(), 2) # km/s\n",
    "    #rv_err2 = np.round(models[0].emu(), 2) # km/s\n",
    "    \n",
    "    #--- Radial Velocity correction ------------------------------------------------\n",
    "    logging.info(\"Radial velocity correction...\")\n",
    "    RVcorr_spectrum = ispec.correct_velocity(star_spectrum, rv)\n",
    "    \n",
    "    #--- Save corrected spectrum ------------------------------------------------\n",
    "    logging.info(\"Saving spectrum...\")\n",
    "    ispec.write_spectrum(RVcorr_spectrum, rvdir + specname[i] + \"_rvc.fits\")\n",
    "    \n",
    "    "
   ]
  },
  {
   "cell_type": "code",
   "execution_count": 65,
   "id": "b29a871f-08cf-46cd-beda-abbfa96ce739",
   "metadata": {},
   "outputs": [
    {
     "data": {
      "text/html": [
       "<div>\n",
       "<style scoped>\n",
       "    .dataframe tbody tr th:only-of-type {\n",
       "        vertical-align: middle;\n",
       "    }\n",
       "\n",
       "    .dataframe tbody tr th {\n",
       "        vertical-align: top;\n",
       "    }\n",
       "\n",
       "    .dataframe thead th {\n",
       "        text-align: right;\n",
       "    }\n",
       "</style>\n",
       "<table border=\"1\" class=\"dataframe\">\n",
       "  <thead>\n",
       "    <tr style=\"text-align: right;\">\n",
       "      <th></th>\n",
       "      <th>archive file name</th>\n",
       "      <th>Object</th>\n",
       "      <th>RV</th>\n",
       "      <th>RV_err</th>\n",
       "    </tr>\n",
       "  </thead>\n",
       "  <tbody>\n",
       "    <tr>\n",
       "      <th>0</th>\n",
       "      <td>ADP.2020-11-02T11_15_54.747</td>\n",
       "      <td>CD -48 0245</td>\n",
       "      <td>328.93993</td>\n",
       "      <td>0.093099</td>\n",
       "    </tr>\n",
       "  </tbody>\n",
       "</table>\n",
       "</div>"
      ],
      "text/plain": [
       "             archive file name       Object         RV    RV_err\n",
       "0  ADP.2020-11-02T11_15_54.747  CD -48 0245  328.93993  0.093099"
      ]
     },
     "execution_count": 65,
     "metadata": {},
     "output_type": "execute_result"
    }
   ],
   "source": [
    "RV_list"
   ]
  },
  {
   "cell_type": "code",
   "execution_count": 66,
   "id": "f3a95d2f-e350-42c3-9127-3d9affdbc74d",
   "metadata": {},
   "outputs": [],
   "source": [
    "RV_list.to_csv(rvdir+'RV_list.csv', index=False)"
   ]
  },
  {
   "cell_type": "code",
   "execution_count": null,
   "id": "e9cd1963-cb81-4f67-b0df-17e1e007ad64",
   "metadata": {},
   "outputs": [],
   "source": []
  },
  {
   "cell_type": "code",
   "execution_count": 12,
   "id": "5483e6a5-db99-422b-b1dc-b2df624219bd",
   "metadata": {},
   "outputs": [
    {
     "name": "stdout",
     "output_type": "stream",
     "text": [
      "[('wave_peak', '<f8'), ('wave_base', '<f8'), ('wave_top', '<f8'), ('note', '<i8'), ('peak', '<i8'), ('base', '<i8'), ('top', '<i8'), ('depth', '<f8'), ('relative_depth', '<f8'), ('wave_base_fit', '<f8'), ('wave_top_fit', '<f8'), ('base_fit', '<i8'), ('top_fit', '<i8'), ('mu', '<f8'), ('sig', '<f8'), ('A', '<f8'), ('baseline', '<f8'), ('gamma', '<f8'), ('mu_err', '<f8'), ('fwhm', '<f8'), ('fwhm_kms', '<f8'), ('R', '<f8'), ('depth_fit', '<f8'), ('relative_depth_fit', '<f8'), ('integrated_flux', '<f8'), ('ewr', '<f8'), ('ew', '<f8'), ('ew_err', '<f8'), ('rms', '<f8'), ('telluric_wave_peak', '<f8'), ('telluric_fwhm', '<f8'), ('telluric_R', '<f8'), ('telluric_depth', '<f8'), ('wave (nm)', '<f8'), ('wave (A)', '<f8'), ('species', '<f8'), ('element', '<U4'), ('lower state (cm^-1)', '<i8'), ('upper state (cm^-1)', '<i8'), ('lower state (eV)', '<f8'), ('upper state (eV)', '<f8'), ('log(gf)', '<f8'), ('fudge factor', '<f8'), ('transition type', '<U2'), ('rad', '<f8'), ('stark', '<f8'), ('waals', '<f8'), ('valid_theoretical_ew_depth', '<U5'), ('theoretical_ew', '<f8'), ('theoretical_depth', '<f8'), ('line_strength', '<f8'), ('solar_abund_rank', '<i8'), ('discarded', '<U5')]\n",
      "(396.974909715, 396.970009804, 396.989409452, --, 5297, 5295, 5303, 0.733900329805, 0.687649404098, 396.970009804, 396.989409452, 5295, 5303, 396.974582599, 0.0160680596506, -0.730061760995, 1.0, 9999.0, 0.00449266538869, 0.03783738895, 28.5745343275, 10491.5955782, 0.730061760995, 0.0749926834057, 0.0294044439524, -4.13034972958, 294.044439524, -0.000140288981108, 0.0731103650803, 0.0, 0.0, 0.0, 0.0, 396.9742, 3969.742, 24.0, 'Cr 1', 20527, 45718, 2.54496493188, 5.66817882572, 0.58, 1.0, 'GA', 8.08, -6.22, -7.649, 'True', 101.6, 0.91, -3.69554108556, 16, 'False')\n"
     ]
    }
   ],
   "source": [
    "#header of ccf_mask and select a row as an example\n",
    "print(ccf_mask.dtype)\n",
    "print(ccf_mask[500])"
   ]
  },
  {
   "cell_type": "code",
   "execution_count": 13,
   "id": "3904ae1c-c1ea-4d6c-bb1c-81a8f868f750",
   "metadata": {},
   "outputs": [
    {
     "data": {
      "text/plain": [
       "(masked_array(data=['Ag 1', 'Al 1', 'Al 2', 'Al 3', 'Ar 1', 'Ar 2', 'Ba 1',\n",
       "                    'Ba 2', 'Be 2', 'C 1', 'C 2', 'C 3', 'Ca 1', 'Ca 2',\n",
       "                    'Ca 3', 'Ce 1', 'Ce 2', 'Ce 3', 'Cl 1', 'Cl 2', 'Co 1',\n",
       "                    'Co 2', 'Co 3', 'Co 4', 'Cr 1', 'Cr 2', 'Cr 3', 'Cu 1',\n",
       "                    'Cu 2', 'Dy 1', 'Dy 2', 'Er 1', 'Er 2', 'Eu 1', 'Eu 2',\n",
       "                    'Eu 3', 'F 1', 'F 2', 'F 3', 'Fe 1', 'Fe 2', 'Fe 3',\n",
       "                    'Fe 4', 'Fe 5', 'Gd 1', 'Gd 2', 'Ge 1', 'Ge 2', 'He 1',\n",
       "                    'Hf 1', 'Hf 2', 'Ho 2', 'Ho 3', 'In 1', 'Ir 1', 'K 1',\n",
       "                    'La 1', 'La 2', 'Li 1', 'Lu 1', 'Lu 2', 'Lu 3', 'Mg 1',\n",
       "                    'Mg 2', 'Mn 1', 'Mn 2', 'Mn 3', 'Mo 1', 'Mo 2', 'N 1',\n",
       "                    'N 2', 'N 3', 'N 5', --, 'Na 1', 'Nb 1', 'Nb 2',\n",
       "                    'Nd 1', 'Nd 2', 'Nd 3', 'Ne 1', 'Ne 2', 'Ni 1', 'Ni 2',\n",
       "                    'Ni 3', 'Ni 4', 'Ni 5', 'O 1', 'O 2', 'O 3', 'Os 1',\n",
       "                    'P 1', 'P 2', 'P 3', 'P 5', 'Pd 1', 'Pr 1', 'Pr 2',\n",
       "                    'Pr 3', 'Pt 1', 'Rh 1', 'Ru 1', 'S 1', 'S 2', 'Sc 1',\n",
       "                    'Sc 2', 'Si 1', 'Si 2', 'Si 3', 'Sm 1', 'Sm 2', 'Sr 1',\n",
       "                    'Sr 2', 'Ta 1', 'Tb 2', 'Th 1', 'Th 2', 'Ti 1', 'Ti 2',\n",
       "                    'Ti 3', 'Tm 1', 'Tm 2', 'Tm 3', 'U 1', 'U 2', 'V 1',\n",
       "                    'V 2', 'V 3', 'V 4', 'V 5', 'W 1', 'W 2', 'Xe 2',\n",
       "                    'Y 1', 'Y 2', 'Yb 2', 'Zn 1', 'Zn 3', 'Zr 1', 'Zr 2'],\n",
       "              mask=[False, False, False, False, False, False, False, False,\n",
       "                    False, False, False, False, False, False, False, False,\n",
       "                    False, False, False, False, False, False, False, False,\n",
       "                    False, False, False, False, False, False, False, False,\n",
       "                    False, False, False, False, False, False, False, False,\n",
       "                    False, False, False, False, False, False, False, False,\n",
       "                    False, False, False, False, False, False, False, False,\n",
       "                    False, False, False, False, False, False, False, False,\n",
       "                    False, False, False, False, False, False, False, False,\n",
       "                    False,  True, False, False, False, False, False, False,\n",
       "                    False, False, False, False, False, False, False, False,\n",
       "                    False, False, False, False, False, False, False, False,\n",
       "                    False, False, False, False, False, False, False, False,\n",
       "                    False, False, False, False, False, False, False, False,\n",
       "                    False, False, False, False, False, False, False, False,\n",
       "                    False, False, False, False, False, False, False, False,\n",
       "                    False, False, False, False, False, False, False, False,\n",
       "                    False, False, False, False],\n",
       "        fill_value='N/A',\n",
       "             dtype='<U4'),\n",
       " array([   1,   19,    4,    1,   15,   26,    5,    8,    1,   72,    4,\n",
       "           2,  160,   14,   10,   11,  322,    9,   11,   10,  304,   23,\n",
       "           1,    1,  632,  211,    1,   15,   21,    2,   19,    1,   12,\n",
       "           2,    5,    1,   12,    2,   10, 3037,  449,   37,    2,    1,\n",
       "           7,   32,    1,    1,   15,    9,    5,    2,    2,    1,    3,\n",
       "           6,    4,   38,    1,    1,    2,    1,   40,    3,  189,   41,\n",
       "          18,   17,    1,   18,    4,    2,    2,  453,   13,    7,    1,\n",
       "           3,  130,    2,    8,   16,  471,   86,   13,    1,    2,   11,\n",
       "           8,    3,    2,   17,    2,    1,    1,    2,    1,   29,   31,\n",
       "           1,    2,   13,   39,    3,   56,   48,  255,    5,    4,    5,\n",
       "          67,    7,    3,    1,    6,    3,   18,  530,  145,    8,    3,\n",
       "          44,    1,    3,    4,  254,   81,   15,    2,    1,    7,    1,\n",
       "           1,   17,   30,   29,    6,    1,   39,   31]))"
      ]
     },
     "execution_count": 13,
     "metadata": {},
     "output_type": "execute_result"
    }
   ],
   "source": [
    "#Find which elements the mask uses\n",
    "ccf_ele = ccf_mask['element']\n",
    "np.unique(ccf_ele, return_counts=True)"
   ]
  },
  {
   "cell_type": "code",
   "execution_count": 21,
   "id": "2a44d41e-ddef-4c99-a12b-a7d3d1353750",
   "metadata": {},
   "outputs": [
    {
     "name": "stdout",
     "output_type": "stream",
     "text": [
      "(numpy.record, [('x', '<f8'), ('y', '<f8'), ('err', '<f8')])\n"
     ]
    },
    {
     "data": {
      "text/plain": [
       "<matplotlib.collections.PathCollection at 0x7f6d66f97190>"
      ]
     },
     "execution_count": 21,
     "metadata": {},
     "output_type": "execute_result"
    },
    {
     "data": {
      "image/png": "[encoded data removed]",
      "text/plain": [
       "<Figure size 640x480 with 1 Axes>"
      ]
     },
     "metadata": {},
     "output_type": "display_data"
    }
   ],
   "source": [
    "#plt the RV fitting results\n",
    "print(ccf.dtype)\n",
    "plt.scatter(ccf['x'],ccf['y'],s=1)"
   ]
  },
  {
   "cell_type": "code",
   "execution_count": 44,
   "id": "4300ea89-b274-4df8-b7f5-89d9df4dd3d0",
   "metadata": {},
   "outputs": [
    {
     "name": "stdout",
     "output_type": "stream",
     "text": [
      "Help on GaussianModel in module ispec.modeling.mpfitmodels object:\n",
      "\n",
      "class GaussianModel(MPFitModel)\n",
      " |  GaussianModel(baseline=0, A=-0.025, sig=0.25, mu=0)\n",
      " |  \n",
      " |  Method resolution order:\n",
      " |      GaussianModel\n",
      " |      MPFitModel\n",
      " |      builtins.object\n",
      " |  \n",
      " |  Methods defined here:\n",
      " |  \n",
      " |  A(self)\n",
      " |  \n",
      " |  __init__(self, baseline=0, A=-0.025, sig=0.25, mu=0)\n",
      " |      Initialize self.  See help(type(self)) for accurate signature.\n",
      " |  \n",
      " |  baseline(self)\n",
      " |  \n",
      " |  eA(self)\n",
      " |  \n",
      " |  ebaseline(self)\n",
      " |  \n",
      " |  emu(self)\n",
      " |  \n",
      " |  esig(self)\n",
      " |  \n",
      " |  fitData(self, x, y, weights=None, parinfo=None)\n",
      " |      - ftol: Termination occurs when both the actual\n",
      " |              and predicted relative reductions in the sum of squares are at most\n",
      " |              ftol\n",
      " |      - xtol: Termination occurs when the relative error\n",
      " |              between two consecutive iterates is at most xtol\n",
      " |      - gtol: Termination occurs when the cosine of\n",
      " |              the angle between fvec and any column of the jacobian is at most gtol\n",
      " |              in absolute value\n",
      " |      - damp: Residuals bigger than \"damp\" are not considered (damped)\n",
      " |      - maxiter: Maximum number of iterations\n",
      " |  \n",
      " |  fwhm(self)\n",
      " |      # Returns fwhm in nm and kms\n",
      " |  \n",
      " |  integrate(self, from_x=None, to_x=None)\n",
      " |  \n",
      " |  mu(self)\n",
      " |  \n",
      " |  resolution(self)\n",
      " |  \n",
      " |  set_emu(self, emu)\n",
      " |  \n",
      " |  sig(self)\n",
      " |  \n",
      " |  ----------------------------------------------------------------------\n",
      " |  Methods inherited from MPFitModel:\n",
      " |  \n",
      " |  __call__(self, x)\n",
      " |      Call self as a function.\n",
      " |  \n",
      " |  residuals(self)\n",
      " |  \n",
      " |  ----------------------------------------------------------------------\n",
      " |  Data descriptors inherited from MPFitModel:\n",
      " |  \n",
      " |  __dict__\n",
      " |      dictionary for instance variables (if defined)\n",
      " |  \n",
      " |  __weakref__\n",
      " |      list of weak references to the object (if defined)\n",
      "\n",
      "328.93992984908243 0.09309863775943567\n"
     ]
    }
   ],
   "source": [
    "#plt the RV fitting results\n",
    "help(models[0])\n",
    "print(models[0].mu(),models[0].emu())"
   ]
  }
 ],
 "metadata": {
  "kernelspec": {
   "display_name": "Python 3 (ipykernel)",
   "language": "python",
   "name": "python3"
  },
  "language_info": {
   "codemirror_mode": {
    "name": "ipython",
    "version": 3
   },
   "file_extension": ".py",
   "mimetype": "text/x-python",
   "name": "python",
   "nbconvert_exporter": "python",
   "pygments_lexer": "ipython3",
   "version": "3.9.13"
  }
 },
 "nbformat": 4,
 "nbformat_minor": 5
}
